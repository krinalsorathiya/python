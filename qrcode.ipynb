{
 "cells": [
  {
   "cell_type": "code",
   "execution_count": 1,
   "id": "b878d497-046a-42a1-a2af-4e6ba7cc3ecd",
   "metadata": {},
   "outputs": [
    {
     "name": "stdout",
     "output_type": "stream",
     "text": [
      "Requirement already satisfied: qrcode in c:\\users\\admin\\anaconda3\\lib\\site-packages (8.0)\n",
      "Requirement already satisfied: colorama in c:\\users\\admin\\anaconda3\\lib\\site-packages (from qrcode) (0.4.6)\n",
      "Note: you may need to restart the kernel to use updated packages.\n"
     ]
    }
   ],
   "source": [
    "pip install qrcode"
   ]
  },
  {
   "cell_type": "code",
   "execution_count": 7,
   "id": "30bc8888-6c74-4fe1-bab2-a573ac6d35f8",
   "metadata": {},
   "outputs": [],
   "source": [
    "import qrcode\n",
    "\n",
    "# Data you want to encode into the QR code\n",
    "data = \"sorathiyakrinal09@gamil.com\"\n",
    "\n",
    "# Create a QRCode instance\n",
    "qr = qrcode.QRCode(\n",
    "    version=1,  # controls the size of the QR code, 1 is the smallest\n",
    "    error_correction=qrcode.constants.ERROR_CORRECT_L,  # error correction level\n",
    "    box_size=10,  # size of each box in the QR code\n",
    "    border=4,  # border size in boxes\n",
    ")\n",
    "\n",
    "# Add data to the QR code\n",
    "qr.add_data(data)\n",
    "qr.make(fit=True)\n",
    "\n",
    "# Create an image from the QR code instance\n",
    "img = qr.make_image(fill=\"black\", back_color=\"white\")\n",
    "\n",
    "# Save the image to a file\n",
    "img.save(\"qrcode_example.png\")\n",
    "\n",
    "# Optionally, you can show the image\n",
    "img.show()\n"
   ]
  },
  {
   "cell_type": "code",
   "execution_count": null,
   "id": "b08268a0-c77c-478a-af0c-09ee63a3e24c",
   "metadata": {},
   "outputs": [],
   "source": []
  }
 ],
 "metadata": {
  "kernelspec": {
   "display_name": "Python [conda env:base] *",
   "language": "python",
   "name": "conda-base-py"
  },
  "language_info": {
   "codemirror_mode": {
    "name": "ipython",
    "version": 3
   },
   "file_extension": ".py",
   "mimetype": "text/x-python",
   "name": "python",
   "nbconvert_exporter": "python",
   "pygments_lexer": "ipython3",
   "version": "3.12.7"
  }
 },
 "nbformat": 4,
 "nbformat_minor": 5
}
