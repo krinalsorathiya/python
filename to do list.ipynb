{
 "cells": [
  {
   "cell_type": "code",
   "execution_count": 3,
   "id": "ca2426f0-21e5-48bd-9c86-2c2d7dd32e31",
   "metadata": {},
   "outputs": [
    {
     "name": "stdout",
     "output_type": "stream",
     "text": [
      "\n",
      "To-Do List Menu:\n",
      "1. Show To-Do List\n",
      "2. Add To-Do Item\n",
      "3. Remove To-Do Item\n",
      "4. Update To-Do Item\n",
      "5. Exit\n"
     ]
    },
    {
     "name": "stdin",
     "output_type": "stream",
     "text": [
      "\n",
      "Select an option:  2\n",
      "\n",
      "Enter the task to add:  assignment\n"
     ]
    },
    {
     "name": "stdout",
     "output_type": "stream",
     "text": [
      "'assignment' has been added to your to-do list.\n",
      "\n",
      "To-Do List Menu:\n",
      "1. Show To-Do List\n",
      "2. Add To-Do Item\n",
      "3. Remove To-Do Item\n",
      "4. Update To-Do Item\n",
      "5. Exit\n"
     ]
    },
    {
     "name": "stdin",
     "output_type": "stream",
     "text": [
      "\n",
      "Select an option:  1\n"
     ]
    },
    {
     "name": "stdout",
     "output_type": "stream",
     "text": [
      "\n",
      "Your To-Do List:\n",
      "1. assignment\n",
      "\n",
      "To-Do List Menu:\n",
      "1. Show To-Do List\n",
      "2. Add To-Do Item\n",
      "3. Remove To-Do Item\n",
      "4. Update To-Do Item\n",
      "5. Exit\n"
     ]
    },
    {
     "name": "stdin",
     "output_type": "stream",
     "text": [
      "\n",
      "Select an option:  4\n"
     ]
    },
    {
     "name": "stdout",
     "output_type": "stream",
     "text": [
      "\n",
      "Your To-Do List:\n",
      "1. assignment\n"
     ]
    },
    {
     "name": "stdin",
     "output_type": "stream",
     "text": [
      "\n",
      "Enter the number of the task to update:  practical\n"
     ]
    },
    {
     "name": "stdout",
     "output_type": "stream",
     "text": [
      "Please enter a valid number.\n",
      "\n",
      "To-Do List Menu:\n",
      "1. Show To-Do List\n",
      "2. Add To-Do Item\n",
      "3. Remove To-Do Item\n",
      "4. Update To-Do Item\n",
      "5. Exit\n"
     ]
    },
    {
     "name": "stdin",
     "output_type": "stream",
     "text": [
      "\n",
      "Select an option:  1\n"
     ]
    },
    {
     "name": "stdout",
     "output_type": "stream",
     "text": [
      "\n",
      "Your To-Do List:\n",
      "1. assignment\n",
      "\n",
      "To-Do List Menu:\n",
      "1. Show To-Do List\n",
      "2. Add To-Do Item\n",
      "3. Remove To-Do Item\n",
      "4. Update To-Do Item\n",
      "5. Exit\n"
     ]
    },
    {
     "name": "stdin",
     "output_type": "stream",
     "text": [
      "\n",
      "Select an option:  5\n"
     ]
    },
    {
     "name": "stdout",
     "output_type": "stream",
     "text": [
      "\n",
      "Goodbye! Your to-do list is saved.\n"
     ]
    }
   ],
   "source": [
    "def show_menu():\n",
    "    print(\"\\nTo-Do List Menu:\")\n",
    "    print(\"1. Show To-Do List\")\n",
    "    print(\"2. Add To-Do Item\")\n",
    "    print(\"3. Remove To-Do Item\")\n",
    "    print(\"4. Update To-Do Item\")\n",
    "    print(\"5. Exit\")\n",
    "\n",
    "def show_todos(todo_list):\n",
    "    if todo_list:\n",
    "        print(\"\\nYour To-Do List:\")\n",
    "        for idx, todo in enumerate(todo_list, 1):\n",
    "            print(f\"{idx}. {todo}\")\n",
    "    else:\n",
    "        print(\"\\nYour To-Do list is empty.\")\n",
    "\n",
    "def add_todo(todo_list):\n",
    "    new_todo = input(\"\\nEnter the task to add: \")\n",
    "    todo_list.append(new_todo)\n",
    "    print(f\"'{new_todo}' has been added to your to-do list.\")\n",
    "\n",
    "def remove_todo(todo_list):\n",
    "    show_todos(todo_list)\n",
    "    if todo_list:\n",
    "        try:\n",
    "            todo_index = int(input(\"\\nEnter the number of the task to remove: \"))\n",
    "            if 1 <= todo_index <= len(todo_list):\n",
    "                removed_todo = todo_list.pop(todo_index - 1)\n",
    "                print(f\"'{removed_todo}' has been removed from your to-do list.\")\n",
    "            else:\n",
    "                print(\"Invalid task number.\")\n",
    "        except ValueError:\n",
    "            print(\"Please enter a valid number.\")\n",
    "    else:\n",
    "        print(\"\\nNo tasks to remove.\")\n",
    "\n",
    "def update_todo(todo_list):\n",
    "    show_todos(todo_list)\n",
    "    if todo_list:\n",
    "        try:\n",
    "            todo_index = int(input(\"\\nEnter the number of the task to update: \"))\n",
    "            if 1 <= todo_index <= len(todo_list):\n",
    "                new_task = input(\"Enter the new task: \")\n",
    "                todo_list[todo_index - 1] = new_task\n",
    "                print(f\"Task #{todo_index} has been updated to '{new_task}'.\")\n",
    "            else:\n",
    "                print(\"Invalid task number.\")\n",
    "        except ValueError:\n",
    "            print(\"Please enter a valid number.\")\n",
    "    else:\n",
    "        print(\"\\nNo tasks to update.\")\n",
    "\n",
    "\n",
    "def main():\n",
    "    todo_list = []\n",
    "    \n",
    "    while True:\n",
    "        show_menu()\n",
    "        try:\n",
    "            choice = int(input(\"\\nSelect an option: \"))\n",
    "            if choice == 1:\n",
    "                show_todos(todo_list)\n",
    "            elif choice == 2:\n",
    "                add_todo(todo_list)\n",
    "            elif choice == 3:\n",
    "                remove_todo(todo_list)\n",
    "            elif choice == 4:\n",
    "                update_todo(todo_list)\n",
    "            elif choice == 5:\n",
    "                print(\"\\nGoodbye! Your to-do list is saved.\")\n",
    "                break\n",
    "            else:\n",
    "                print(\"\\nInvalid option. Please try again.\")\n",
    "        except ValueError:\n",
    "            print(\"\\nInvalid input. Please enter a number from 1 to 4.\")\n",
    "\n",
    "if __name__ == \"__main__\":\n",
    "    main()\n"
   ]
  },
  {
   "cell_type": "code",
   "execution_count": null,
   "id": "a5d97c90-df93-4608-8dfa-f0a0b17ecc5b",
   "metadata": {},
   "outputs": [],
   "source": []
  }
 ],
 "metadata": {
  "kernelspec": {
   "display_name": "Python [conda env:base] *",
   "language": "python",
   "name": "conda-base-py"
  },
  "language_info": {
   "codemirror_mode": {
    "name": "ipython",
    "version": 3
   },
   "file_extension": ".py",
   "mimetype": "text/x-python",
   "name": "python",
   "nbconvert_exporter": "python",
   "pygments_lexer": "ipython3",
   "version": "3.12.7"
  }
 },
 "nbformat": 4,
 "nbformat_minor": 5
}
