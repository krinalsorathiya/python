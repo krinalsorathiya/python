{
 "cells": [
  {
   "cell_type": "code",
   "execution_count": 1,
   "id": "e6ba6301-f503-46e6-8d96-f7013bcc7ea7",
   "metadata": {},
   "outputs": [
    {
     "name": "stdout",
     "output_type": "stream",
     "text": [
      "  |   |  \n",
      "--+---+--\n",
      "  |   |  \n",
      "--+---+--\n",
      "  |   |  \n"
     ]
    },
    {
     "name": "stdin",
     "output_type": "stream",
     "text": [
      "Player X, enter your move (1-9):  1\n"
     ]
    },
    {
     "name": "stdout",
     "output_type": "stream",
     "text": [
      "X |   |  \n",
      "--+---+--\n",
      "  |   |  \n",
      "--+---+--\n",
      "  |   |  \n"
     ]
    },
    {
     "name": "stdin",
     "output_type": "stream",
     "text": [
      "Player O, enter your move (1-9):  2\n"
     ]
    },
    {
     "name": "stdout",
     "output_type": "stream",
     "text": [
      "X | O |  \n",
      "--+---+--\n",
      "  |   |  \n",
      "--+---+--\n",
      "  |   |  \n"
     ]
    },
    {
     "name": "stdin",
     "output_type": "stream",
     "text": [
      "Player X, enter your move (1-9):  4\n"
     ]
    },
    {
     "name": "stdout",
     "output_type": "stream",
     "text": [
      "X | O |  \n",
      "--+---+--\n",
      "X |   |  \n",
      "--+---+--\n",
      "  |   |  \n"
     ]
    },
    {
     "name": "stdin",
     "output_type": "stream",
     "text": [
      "Player O, enter your move (1-9):  5\n"
     ]
    },
    {
     "name": "stdout",
     "output_type": "stream",
     "text": [
      "X | O |  \n",
      "--+---+--\n",
      "X | O |  \n",
      "--+---+--\n",
      "  |   |  \n"
     ]
    },
    {
     "name": "stdin",
     "output_type": "stream",
     "text": [
      "Player X, enter your move (1-9):  7\n"
     ]
    },
    {
     "name": "stdout",
     "output_type": "stream",
     "text": [
      "X | O |  \n",
      "--+---+--\n",
      "X | O |  \n",
      "--+---+--\n",
      "X |   |  \n",
      "Player X wins!\n"
     ]
    }
   ],
   "source": [
    "# Function to initialize the game board\n",
    "def initialize_board():\n",
    "    return [' ' for _ in range(9)]  # A list of 9 empty spaces\n",
    "\n",
    "# Function to print the current game board\n",
    "def print_board(board):\n",
    "    print(f\"{board[0]} | {board[1]} | {board[2]}\")\n",
    "    print(\"--+---+--\")\n",
    "    print(f\"{board[3]} | {board[4]} | {board[5]}\")\n",
    "    print(\"--+---+--\")\n",
    "    print(f\"{board[6]} | {board[7]} | {board[8]}\")\n",
    "\n",
    "# Function to check if a player has won\n",
    "def check_winner(board, player):\n",
    "    win_conditions = [\n",
    "        [0, 1, 2], [3, 4, 5], [6, 7, 8],  # Rows\n",
    "        [0, 3, 6], [1, 4, 7], [2, 5, 8],  # Columns\n",
    "        [0, 4, 8], [2, 4, 6]              # Diagonals\n",
    "    ]\n",
    "    for condition in win_conditions:\n",
    "        if board[condition[0]] == board[condition[1]] == board[condition[2]] == player:\n",
    "            return True\n",
    "    return False\n",
    "\n",
    "# Function to check if the game is a draw\n",
    "def is_draw(board):\n",
    "    return ' ' not in board\n",
    "\n",
    "# Function to handle player move\n",
    "def player_move(board, player):\n",
    "    while True:\n",
    "        try:\n",
    "            move = int(input(f\"Player {player}, enter your move (1-9): \")) - 1\n",
    "            if move < 0 or move > 8:\n",
    "                print(\"Invalid move. Please enter a number between 1 and 9.\")\n",
    "            elif board[move] != ' ':\n",
    "                print(\"That space is already taken. Try again.\")\n",
    "            else:\n",
    "                board[move] = player\n",
    "                break\n",
    "        except ValueError:\n",
    "            print(\"Invalid input. Please enter a number between 1 and 9.\")\n",
    "\n",
    "# Function to play the game\n",
    "def play_game():\n",
    "    board = initialize_board()\n",
    "    current_player = 'X'\n",
    "    \n",
    "    while True:\n",
    "        print_board(board)\n",
    "        player_move(board, current_player)\n",
    "        \n",
    "        if check_winner(board, current_player):\n",
    "            print_board(board)\n",
    "            print(f\"Player {current_player} wins!\")\n",
    "            break\n",
    "        elif is_draw(board):\n",
    "            print_board(board)\n",
    "            print(\"It's a draw!\")\n",
    "            break\n",
    "        \n",
    "        current_player = 'O' if current_player == 'X' else 'X'\n",
    "\n",
    "# Start the game\n",
    "if __name__ == \"__main__\":\n",
    "    play_game()\n"
   ]
  },
  {
   "cell_type": "code",
   "execution_count": null,
   "id": "11c46eb4-5975-46ff-a241-8bfd28691995",
   "metadata": {},
   "outputs": [],
   "source": []
  }
 ],
 "metadata": {
  "kernelspec": {
   "display_name": "Python [conda env:base] *",
   "language": "python",
   "name": "conda-base-py"
  },
  "language_info": {
   "codemirror_mode": {
    "name": "ipython",
    "version": 3
   },
   "file_extension": ".py",
   "mimetype": "text/x-python",
   "name": "python",
   "nbconvert_exporter": "python",
   "pygments_lexer": "ipython3",
   "version": "3.12.7"
  }
 },
 "nbformat": 4,
 "nbformat_minor": 5
}
